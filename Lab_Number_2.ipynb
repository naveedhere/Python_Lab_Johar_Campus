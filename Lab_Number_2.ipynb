{
 "cells": [
  {
   "cell_type": "markdown",
   "id": "2c8c6961-0e05-4c27-885f-bcee5fb64156",
   "metadata": {},
   "source": [
    "num1, num2 \n",
    "output sum"
   ]
  },
  {
   "cell_type": "code",
   "execution_count": 3,
   "id": "770254b7-a871-4771-9d6d-d1f920c5e8f9",
   "metadata": {},
   "outputs": [
    {
     "name": "stdin",
     "output_type": "stream",
     "text": [
      "Enter number 1:  5\n",
      "Enter number 2:  8\n"
     ]
    },
    {
     "name": "stdout",
     "output_type": "stream",
     "text": [
      "The sum of num1 and num2 is :  13\n"
     ]
    }
   ],
   "source": [
    "num1 = int(input(\"Enter number 1: \"))\n",
    "num2 = int(input(\"Enter number 2: \"))\n",
    "add = num1 + num2\n",
    "print(\"The sum of num1 and num2 is : \",add)"
   ]
  },
  {
   "cell_type": "markdown",
   "id": "ba01e4c4-3a3e-4a12-9db9-36827c506d4d",
   "metadata": {},
   "source": [
    "message\n",
    "\"World\""
   ]
  },
  {
   "cell_type": "code",
   "execution_count": 5,
   "id": "50e456ef-30f9-486f-922b-bd9ab1366836",
   "metadata": {},
   "outputs": [
    {
     "name": "stdin",
     "output_type": "stream",
     "text": [
      "Enter your message:  Hello\n"
     ]
    },
    {
     "name": "stdout",
     "output_type": "stream",
     "text": [
      "HelloWorld!\n"
     ]
    }
   ],
   "source": [
    "message = input(\"Enter your message: \")\n",
    "another_string = \"World!\"\n",
    "print(message+another_string)"
   ]
  },
  {
   "cell_type": "markdown",
   "id": "c7623e74-fbb3-49b1-8bdb-545596b0d315",
   "metadata": {},
   "source": [
    "price - float\n",
    "integer "
   ]
  },
  {
   "cell_type": "code",
   "execution_count": 8,
   "id": "0bdaf4cc-9f2b-49b3-91fd-64c5bd4a0c47",
   "metadata": {},
   "outputs": [
    {
     "name": "stdin",
     "output_type": "stream",
     "text": [
      "Enter Number:  45.7\n"
     ]
    },
    {
     "name": "stdout",
     "output_type": "stream",
     "text": [
      "Old price: 45.7 and the dataype of this variable is: <class 'float'>\n",
      "New price:  45\n"
     ]
    }
   ],
   "source": [
    "price = float(input(\"Enter Number: \"))\n",
    "print(\"Old price: \"+str(price)+\" and the dataype of this variable is: \"+str(type(price)))\n",
    "new_price = int(price)\n",
    "print(\"New price: \",new_price)\n"
   ]
  },
  {
   "cell_type": "code",
   "execution_count": null,
   "id": "4e3429eb-4e99-42aa-92dc-a5b459e1288d",
   "metadata": {},
   "outputs": [],
   "source": []
  }
 ],
 "metadata": {
  "kernelspec": {
   "display_name": "Python 3 (ipykernel)",
   "language": "python",
   "name": "python3"
  },
  "language_info": {
   "codemirror_mode": {
    "name": "ipython",
    "version": 3
   },
   "file_extension": ".py",
   "mimetype": "text/x-python",
   "name": "python",
   "nbconvert_exporter": "python",
   "pygments_lexer": "ipython3",
   "version": "3.12.1"
  }
 },
 "nbformat": 4,
 "nbformat_minor": 5
}
